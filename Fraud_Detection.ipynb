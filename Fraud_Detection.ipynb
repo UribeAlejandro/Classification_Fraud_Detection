{
 "cells": [
  {
   "cell_type": "markdown",
   "source": [
    "# Fraud Detection"
   ],
   "metadata": {
    "collapsed": false
   }
  },
  {
   "cell_type": "markdown",
   "source": [
    "## Functions and methods used in this notebook"
   ],
   "metadata": {
    "collapsed": false
   }
  },
  {
   "cell_type": "code",
   "execution_count": null,
   "outputs": [],
   "source": [
    "import imblearn\n",
    "import numpy as np\n",
    "import pandas as pd\n",
    "import seaborn as sns\n",
    "import matplotlib.pyplot as plt\n",
    "from sklearn.metrics import f1_score\n",
    "from sklearn.impute import SimpleImputer\n",
    "from sklearn.tree import DecisionTreeRegressor\n",
    "from sklearn.preprocessing import StandardScaler\n",
    "from sklearn.model_selection import train_test_split\n",
    "\n",
    "pd.options.display.float_format = \"{:.2f}\".format"
   ],
   "metadata": {
    "collapsed": false,
    "pycharm": {
     "name": "#%%\n"
    }
   }
  },
  {
   "cell_type": "markdown",
   "source": [
    "# Features Dictionary\n",
    "Dataset contains a record of the transactions carried out within a six months.  \n",
    "All transactions were carried out by an user with the card in a property (No Internet).  \n",
    "\n",
    "Feature | Description\n",
    ":- | :-\n",
    "CustomerID | Customer ID\n",
    "isFraud | 1=True; 0=False\n",
    "Value | Value of the transaction\n",
    "Time | Hour of the transaction*\n",
    "Max_Dist_Nat | Maximum distance between transactions\n",
    "Date | Date when transaction was carried out\n",
    "CountryISOCode | Country where the transaction was carried out\n",
    "BusinessChannel | ATM or Payment-Terminal**\n",
    "WeekDay\t| Week of the day***\n",
    "MonthDay | Day of the month the transaction was carried out\n",
    "VincDate | Date corresponding to account creation\n",
    "VincOffice | Vinculation office\n",
    "Gender | M=Male; F=Female\n",
    "Segment | Segment client belongs to\n",
    "Age | Client's age\n",
    "Income | Income\n",
    "Expenditures | Expenditures\n",
    "VisitedCountries | Number of visited countries\n",
    "Dist_Sum_Int | Total International distance traveled by client\n",
    "Dist_Mean_Int | Average International distance traveled by client\n",
    "NatVisitedCities | Number of national cities visited by client\n",
    "Dist_Mean_Nal | Average National distance traveled by client\n",
    "Dist_Today | Difference in distance between last transaction and actual one\n",
    "Dist_Sum_Nal | Total National distance traveled by client\n",
    "\n",
    "_All distances are in km_  \n",
    "_Missing distances cannot be calculated, these values corresponds to new clients_  \n",
    "_Value, Income and Expenditures are in USD_  \n",
    "_*No minutes, no seconds_  \n",
    "_**Includes payment terminal types_  \n",
    "_***0=Sunday, 1=Monday ... 6= Saturday_  "
   ],
   "metadata": {
    "collapsed": false
   }
  },
  {
   "cell_type": "markdown",
   "source": [
    "## Data Loading & Overview"
   ],
   "metadata": {
    "collapsed": false
   }
  },
  {
   "cell_type": "code",
   "execution_count": null,
   "outputs": [],
   "source": [
    "df = pd.read_csv(\"dataset/Fraud.csv\", parse_dates=[['Date','Time'],'VincDate'])\n",
    "df['Date_Time'] = df['Date_Time'].apply(lambda x: str(x) + ':00').apply(lambda x : pd.to_datetime(x))\n",
    "print(f'Dataset has {df.shape[0]} rows and {df.shape[1]} columns.')"
   ],
   "metadata": {
    "collapsed": false,
    "pycharm": {
     "name": "#%%\n"
    }
   }
  },
  {
   "cell_type": "code",
   "execution_count": null,
   "outputs": [],
   "source": [
    "df.head()"
   ],
   "metadata": {
    "collapsed": false,
    "pycharm": {
     "name": "#%%\n"
    }
   }
  },
  {
   "cell_type": "markdown",
   "source": [
    "## Data Exploration"
   ],
   "metadata": {
    "collapsed": false
   }
  },
  {
   "cell_type": "code",
   "execution_count": null,
   "outputs": [],
   "source": [
    "df.info()"
   ],
   "metadata": {
    "collapsed": false,
    "pycharm": {
     "name": "#%%\n"
    }
   }
  },
  {
   "cell_type": "markdown",
   "source": [],
   "metadata": {
    "collapsed": false
   }
  },
  {
   "cell_type": "code",
   "execution_count": null,
   "outputs": [],
   "source": [],
   "metadata": {
    "collapsed": false,
    "pycharm": {
     "name": "#%%\n"
    }
   }
  },
  {
   "cell_type": "code",
   "execution_count": null,
   "outputs": [],
   "source": [],
   "metadata": {
    "collapsed": false,
    "pycharm": {
     "name": "#%%\n"
    }
   }
  },
  {
   "cell_type": "code",
   "execution_count": null,
   "outputs": [],
   "source": [],
   "metadata": {
    "collapsed": false,
    "pycharm": {
     "name": "#%%\n"
    }
   }
  },
  {
   "cell_type": "code",
   "execution_count": null,
   "outputs": [],
   "source": [],
   "metadata": {
    "collapsed": false,
    "pycharm": {
     "name": "#%%\n"
    }
   }
  },
  {
   "cell_type": "markdown",
   "source": [
    "### Missing values"
   ],
   "metadata": {
    "collapsed": false
   }
  },
  {
   "cell_type": "code",
   "execution_count": null,
   "outputs": [],
   "source": [
    "df.isnull().sum()[df.isnull().sum()>0].to_frame('Nulls')"
   ],
   "metadata": {
    "collapsed": false,
    "pycharm": {
     "name": "#%%\n"
    }
   }
  },
  {
   "cell_type": "markdown",
   "source": [
    "According to business rules the distances cannot be calculated nor imputed. The missing values will be replaced with zeros.  \n",
    "Also, values  missing values in other columns will be dropped."
   ],
   "metadata": {
    "collapsed": false
   }
  },
  {
   "cell_type": "code",
   "execution_count": null,
   "outputs": [],
   "source": [
    "df['Dist_Sum_Int'].replace(np.NaN,0.,inplace=True)\n",
    "df['Dist_Mean_Int'].replace(np.NaN,0.,inplace=True)\n",
    "df['Dist_Max_Int'].replace(np.NaN,0.,inplace=True)\n",
    "df['Dist_Mean_Nat'].replace(np.NaN,0.,inplace=True)\n",
    "df.dropna(axis=0,inplace = True)"
   ],
   "metadata": {
    "collapsed": false,
    "pycharm": {
     "name": "#%%\n"
    }
   }
  },
  {
   "cell_type": "code",
   "execution_count": null,
   "outputs": [],
   "source": [
    "Let's focus on the target feature `isFraud` and its correlations with the other features."
   ],
   "metadata": {
    "collapsed": false,
    "pycharm": {
     "name": "#%%\n"
    }
   }
  },
  {
   "cell_type": "code",
   "execution_count": null,
   "outputs": [],
   "source": [
    "corr_matrix = df.corr()\n",
    "corr_matrix[['isFraud']].sort_values(by ='isFraud',ascending=False)"
   ],
   "metadata": {
    "collapsed": false,
    "pycharm": {
     "name": "#%%\n"
    }
   }
  },
  {
   "cell_type": "markdown",
   "source": [
    "### Balance of target variable"
   ],
   "metadata": {
    "collapsed": false
   }
  },
  {
   "cell_type": "code",
   "execution_count": null,
   "outputs": [],
   "source": [
    "print(\"Proportion:\", round(df['isFraud'].value_counts()[0]/df['isFraud'].value_counts()[1],1),\": 1\")\n",
    "df['isFraud'].value_counts().to_frame()"
   ],
   "metadata": {
    "collapsed": false,
    "pycharm": {
     "name": "#%%\n"
    }
   }
  },
  {
   "cell_type": "markdown",
   "source": [
    "We can notice that we have more Non-Fraudulent transactions than Fraudulent ones."
   ],
   "metadata": {
    "collapsed": false
   }
  },
  {
   "cell_type": "code",
   "execution_count": null,
   "outputs": [],
   "source": [
    "sns.countplot(df['isFraud'])\n",
    "plt.show()"
   ],
   "metadata": {
    "collapsed": false,
    "pycharm": {
     "name": "#%%\n"
    }
   }
  },
  {
   "cell_type": "markdown",
   "source": [
    "Continue by checking the ocurrences of `Frauds` according to the `Business Channel`."
   ],
   "metadata": {
    "collapsed": false
   }
  },
  {
   "cell_type": "code",
   "execution_count": null,
   "outputs": [],
   "source": [
    "sns.countplot(df['BusinessChannel'],hue=df['isFraud'])\n",
    "plt.show()"
   ],
   "metadata": {
    "collapsed": false,
    "pycharm": {
     "name": "#%%\n"
    }
   }
  },
  {
   "cell_type": "markdown",
   "source": [
    "Notice that most of the frauds were carried out in ATMs."
   ],
   "metadata": {
    "collapsed": false
   }
  },
  {
   "cell_type": "code",
   "execution_count": null,
   "outputs": [],
   "source": [
    "fig,ax = plt.subplots(2,1, figsize=(6, 6), sharex=True,sharey=True)\n",
    "ax[0].set_title('Non-Fraudulent')\n",
    "sns.distplot(df[df['isFraud']==0]['Value'],ax=ax[0],color='orange')\n",
    "ax[1].set_title('Fraudulent')\n",
    "sns.distplot(df[df['isFraud']==1]['Value'],ax=ax[1],color='blue')\n",
    "plt.tight_layout()"
   ],
   "metadata": {
    "collapsed": false,
    "pycharm": {
     "name": "#%%\n"
    }
   }
  },
  {
   "cell_type": "markdown",
   "source": [
    "The value of Non-Fraudulent and Fraudulent shows a similar distribution, but Fraudulent values do not "
   ],
   "metadata": {
    "collapsed": false
   }
  },
  {
   "cell_type": "markdown",
   "source": [
    "### Check the correlation between features"
   ],
   "metadata": {
    "collapsed": false
   }
  },
  {
   "cell_type": "code",
   "execution_count": null,
   "outputs": [],
   "source": [
    "def graph_corr_matrix(df: pd.DataFrame):\n",
    "    corr = df.corr().abs()\n",
    "    fig, ax = plt.subplots(figsize=(10,10))\n",
    "\n",
    "    cmap = sns.diverging_palette(250, 15, s=75, l=40,n=9,center=\"light\",as_cmap=True)\n",
    "    img_corr = sns.heatmap(corr, cmap=cmap, vmax=1, center=0,square=True, linewidths=.7, \n",
    "                           cbar_kws={\"shrink\": .7},ax=ax)\n",
    "    return img_corr\n",
    "graph_corr_matrix(df)\n",
    "plt.show()"
   ],
   "metadata": {
    "collapsed": false,
    "pycharm": {
     "name": "#%%\n"
    }
   }
  },
  {
   "cell_type": "markdown",
   "source": [],
   "metadata": {
    "collapsed": false
   }
  },
  {
   "cell_type": "code",
   "execution_count": null,
   "outputs": [],
   "source": [],
   "metadata": {
    "collapsed": false,
    "pycharm": {
     "name": "#%%\n"
    }
   }
  },
  {
   "cell_type": "markdown",
   "source": [
    "## Categorical Features"
   ],
   "metadata": {
    "collapsed": false
   }
  },
  {
   "cell_type": "markdown",
   "source": [
    "Most Machine Learning algorithms prefer work with numbers, let's convert these categories from text to numbers."
   ],
   "metadata": {
    "collapsed": false
   }
  },
  {
   "cell_type": "code",
   "execution_count": null,
   "outputs": [],
   "source": [
    "to_dummies = ['CountryISOCode','BusinessChannel','Gender','Segment']\n",
    "dummies = pd.get_dummies(df[to_dummies])\n",
    "df_filtered = pd.concat([df,dummies],axis = 1,sort=False)\n",
    "df_filtered.drop(labels = to_dummies, axis=1,inplace = True)\n",
    "df_filtered.head()"
   ],
   "metadata": {
    "collapsed": false,
    "pycharm": {
     "name": "#%%\n"
    }
   }
  },
  {
   "cell_type": "markdown",
   "source": [],
   "metadata": {
    "collapsed": false
   }
  },
  {
   "cell_type": "code",
   "execution_count": null,
   "outputs": [],
   "source": [],
   "metadata": {
    "collapsed": false,
    "pycharm": {
     "name": "#%%\n"
    }
   }
  },
  {
   "cell_type": "code",
   "execution_count": null,
   "outputs": [],
   "source": [],
   "metadata": {
    "collapsed": false,
    "pycharm": {
     "name": "#%%\n"
    }
   }
  },
  {
   "cell_type": "markdown",
   "source": [
    "National & International distances / Income & Expenditures are correlated. Only the features that are more correlated to `isFraud` will not be dropped in order. This process is intended to avoid multicollinearity."
   ],
   "metadata": {
    "collapsed": false
   }
  },
  {
   "cell_type": "code",
   "execution_count": null,
   "outputs": [],
   "source": [
    "df[['isFraud','Max_Dist_Nat','Dist_Mean_Nat','Dist_Sum_Nat']].corr().abs()"
   ],
   "metadata": {
    "collapsed": false,
    "pycharm": {
     "name": "#%%\n"
    }
   }
  },
  {
   "cell_type": "code",
   "execution_count": null,
   "outputs": [],
   "source": [
    "df[['isFraud','Dist_Sum_Int','Dist_Mean_Int','Dist_Max_Int']].corr().abs()"
   ],
   "metadata": {
    "collapsed": false,
    "pycharm": {
     "name": "#%%\n"
    }
   }
  },
  {
   "cell_type": "code",
   "execution_count": null,
   "outputs": [],
   "source": [
    "df[['isFraud','Income', 'Expenditures']].corr().abs()"
   ],
   "metadata": {
    "collapsed": false,
    "pycharm": {
     "name": "#%%\n"
    }
   }
  },
  {
   "cell_type": "code",
   "execution_count": null,
   "outputs": [],
   "source": [
    "df.drop(labels=['Dist_Mean_Nat','Dist_Sum_Nat','Dist_Sum_Int', 'Dist_Mean_Int','Income'],axis=1,inplace=True)\n",
    "graph_corr_matrix(df)\n",
    "plt.show()"
   ],
   "metadata": {
    "collapsed": false,
    "pycharm": {
     "name": "#%%\n"
    }
   }
  },
  {
   "cell_type": "code",
   "execution_count": null,
   "outputs": [],
   "source": [
    "sns.countplot('isFraud',data=df)\n",
    "plt.show()"
   ],
   "metadata": {
    "collapsed": false,
    "pycharm": {
     "name": "#%%\n"
    }
   }
  },
  {
   "cell_type": "code",
   "execution_count": null,
   "outputs": [],
   "source": [
    "sns.lmplot(x='Age',y='Value',data=df,hue='isFraud',fit_reg=False)"
   ],
   "metadata": {
    "collapsed": false,
    "pycharm": {
     "name": "#%%\n"
    }
   }
  },
  {
   "cell_type": "code",
   "execution_count": null,
   "outputs": [],
   "source": [
    "df[df['Age']==0]['Age'].value_counts()"
   ],
   "metadata": {
    "collapsed": false,
    "pycharm": {
     "name": "#%%\n"
    }
   }
  },
  {
   "cell_type": "code",
   "execution_count": null,
   "outputs": [],
   "source": [
    "df.isnull().sum()"
   ],
   "metadata": {
    "collapsed": false,
    "pycharm": {
     "name": "#%%\n"
    }
   }
  }
 ],
 "metadata": {
  "kernelspec": {
   "display_name": "Python 3",
   "language": "python",
   "name": "python3"
  },
  "language_info": {
   "codemirror_mode": {
    "name": "ipython",
    "version": 3
   },
   "file_extension": ".py",
   "mimetype": "text/x-python",
   "name": "python",
   "nbconvert_exporter": "python",
   "pygments_lexer": "ipython3",
   "version": "3.7.4"
  }
 },
 "nbformat": 4,
 "nbformat_minor": 2
}