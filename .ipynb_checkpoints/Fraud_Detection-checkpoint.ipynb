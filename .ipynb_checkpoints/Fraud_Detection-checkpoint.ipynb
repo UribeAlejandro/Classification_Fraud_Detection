{
 "cells": [
  {
   "cell_type": "markdown",
   "metadata": {},
   "source": [
    "# Fraud Detection"
   ]
  },
  {
   "cell_type": "markdown",
   "metadata": {},
   "source": [
    "## Functions and methods used in this notebook"
   ]
  },
  {
   "cell_type": "code",
   "execution_count": 19,
   "metadata": {
    "pycharm": {
     "name": "#%%\n"
    }
   },
   "outputs": [],
   "source": [
    "import imblearn\n",
    "import descartes\n",
    "import pycountry\n",
    "import numpy as np\n",
    "import pandas as pd\n",
    "import seaborn as sns\n",
    "import geopandas as gpd\n",
    "import matplotlib.pyplot as plt\n",
    "from sklearn.metrics import f1_score\n",
    "from sklearn.impute import SimpleImputer\n",
    "from sklearn.tree import DecisionTreeRegressor\n",
    "from sklearn.preprocessing import StandardScaler\n",
    "from sklearn.model_selection import train_test_split\n",
    "\n",
    "pd.options.display.float_format = \"{:.2f}\".format\n",
    "sns.set_style(\"whitegrid\")"
   ]
  },
  {
   "cell_type": "markdown",
   "metadata": {},
   "source": [
    "# Features Dictionary\n",
    "Dataset contains a record of the transactions carried out within a six months.  \n",
    "All transactions were carried out by an user with the card in a property (No Internet).  \n",
    "\n",
    "Feature | Description\n",
    ":- | :-\n",
    "CustomerID | Customer ID\n",
    "isFraud | 1=True; 0=False\n",
    "Value | Value of the transaction\n",
    "Time | Hour of the transaction*\n",
    "Max_Dist_Nat | Maximum distance between transactions\n",
    "Date | Date when transaction was carried out\n",
    "CountryISOCode | Country where the transaction was carried out\n",
    "BusinessChannel | ATM or Payment-Terminal**\n",
    "WeekDay\t| Week of the day***\n",
    "MonthDay | Day of the month the transaction was carried out\n",
    "VincDate | Date corresponding to account creation\n",
    "VincOffice | Vinculation office\n",
    "Gender | M=Male; F=Female\n",
    "Segment | Segment client belongs to\n",
    "Age | Client's age\n",
    "Income | Income\n",
    "Expenditures | Expenditures\n",
    "VisitedCountries | Number of visited countries\n",
    "Dist_Sum_Int | Total International distance traveled by client\n",
    "Dist_Mean_Int | Average International distance traveled by client\n",
    "NatVisitedCities | Number of national cities visited by client\n",
    "Dist_Mean_Nal | Average National distance traveled by client\n",
    "Dist_Today | Difference in distance between last transaction and actual one\n",
    "Dist_Sum_Nal | Total National distance traveled by client\n",
    "\n",
    "_All distances are in km_  \n",
    "_Missing distances cannot be calculated, these values corresponds to new clients_  \n",
    "_Value, Income and Expenditures are in USD_  \n",
    "_*No minutes, no seconds_  \n",
    "_**Includes payment terminal types_  \n",
    "_***0=Sunday, 1=Monday ... 6= Saturday_  "
   ]
  },
  {
   "cell_type": "markdown",
   "metadata": {},
   "source": [
    "## Data Loading & Overview"
   ]
  },
  {
   "cell_type": "code",
   "execution_count": 20,
   "metadata": {
    "pycharm": {
     "name": "#%%\n"
    }
   },
   "outputs": [
    {
     "name": "stdout",
     "output_type": "stream",
     "text": [
      "Dataset has 2848 rows and 25 columns.\n"
     ]
    }
   ],
   "source": [
    "df = pd.read_csv(\"dataset/Fraud.csv\", parse_dates=['Date','VincDate'])\n",
    "print(f'Dataset has {df.shape[0]} rows and {df.shape[1]} columns.')"
   ]
  },
  {
   "cell_type": "code",
   "execution_count": 21,
   "metadata": {
    "pycharm": {
     "name": "#%%\n"
    }
   },
   "outputs": [
    {
     "data": {
      "text/html": [
       "<div>\n",
       "<style scoped>\n",
       "    .dataframe tbody tr th:only-of-type {\n",
       "        vertical-align: middle;\n",
       "    }\n",
       "\n",
       "    .dataframe tbody tr th {\n",
       "        vertical-align: top;\n",
       "    }\n",
       "\n",
       "    .dataframe thead th {\n",
       "        text-align: right;\n",
       "    }\n",
       "</style>\n",
       "<table border=\"1\" class=\"dataframe\">\n",
       "  <thead>\n",
       "    <tr style=\"text-align: right;\">\n",
       "      <th></th>\n",
       "      <th>CustomerID</th>\n",
       "      <th>isFraud</th>\n",
       "      <th>Value</th>\n",
       "      <th>Time</th>\n",
       "      <th>Max_Dist_Nat</th>\n",
       "      <th>Date</th>\n",
       "      <th>CountryISOCode</th>\n",
       "      <th>BusinessChannel</th>\n",
       "      <th>WeekDay</th>\n",
       "      <th>MonthDay</th>\n",
       "      <th>...</th>\n",
       "      <th>Income</th>\n",
       "      <th>Expenditures</th>\n",
       "      <th>VisitedCountries</th>\n",
       "      <th>Dist_Sum_Int</th>\n",
       "      <th>Dist_Mean_Int</th>\n",
       "      <th>Dist_Max_Int</th>\n",
       "      <th>NatVisitedCities</th>\n",
       "      <th>Dist_Mean_Nat</th>\n",
       "      <th>Dist_Today</th>\n",
       "      <th>Dist_Sum_Nat</th>\n",
       "    </tr>\n",
       "  </thead>\n",
       "  <tbody>\n",
       "    <tr>\n",
       "      <th>0</th>\n",
       "      <td>9000000001</td>\n",
       "      <td>1</td>\n",
       "      <td>0.00</td>\n",
       "      <td>13</td>\n",
       "      <td>409.60</td>\n",
       "      <td>2015-05-01</td>\n",
       "      <td>US</td>\n",
       "      <td>ATM_INT</td>\n",
       "      <td>5</td>\n",
       "      <td>1</td>\n",
       "      <td>...</td>\n",
       "      <td>342.90</td>\n",
       "      <td>342.90</td>\n",
       "      <td>1</td>\n",
       "      <td>nan</td>\n",
       "      <td>nan</td>\n",
       "      <td>nan</td>\n",
       "      <td>6</td>\n",
       "      <td>295.10</td>\n",
       "      <td>2828.70</td>\n",
       "      <td>3246.30</td>\n",
       "    </tr>\n",
       "    <tr>\n",
       "      <th>1</th>\n",
       "      <td>9000000002</td>\n",
       "      <td>1</td>\n",
       "      <td>0.00</td>\n",
       "      <td>17</td>\n",
       "      <td>369.60</td>\n",
       "      <td>2015-05-15</td>\n",
       "      <td>US</td>\n",
       "      <td>ATM_INT</td>\n",
       "      <td>5</td>\n",
       "      <td>15</td>\n",
       "      <td>...</td>\n",
       "      <td>1612.50</td>\n",
       "      <td>142.90</td>\n",
       "      <td>1</td>\n",
       "      <td>nan</td>\n",
       "      <td>nan</td>\n",
       "      <td>nan</td>\n",
       "      <td>5</td>\n",
       "      <td>18.20</td>\n",
       "      <td>2828.70</td>\n",
       "      <td>1261.30</td>\n",
       "    </tr>\n",
       "    <tr>\n",
       "      <th>2</th>\n",
       "      <td>9000000003</td>\n",
       "      <td>1</td>\n",
       "      <td>0.00</td>\n",
       "      <td>13</td>\n",
       "      <td>409.60</td>\n",
       "      <td>2015-05-01</td>\n",
       "      <td>US</td>\n",
       "      <td>ATM_INT</td>\n",
       "      <td>5</td>\n",
       "      <td>1</td>\n",
       "      <td>...</td>\n",
       "      <td>342.90</td>\n",
       "      <td>342.90</td>\n",
       "      <td>1</td>\n",
       "      <td>nan</td>\n",
       "      <td>nan</td>\n",
       "      <td>nan</td>\n",
       "      <td>6</td>\n",
       "      <td>295.10</td>\n",
       "      <td>2828.70</td>\n",
       "      <td>3246.30</td>\n",
       "    </tr>\n",
       "    <tr>\n",
       "      <th>3</th>\n",
       "      <td>9000000004</td>\n",
       "      <td>1</td>\n",
       "      <td>0.00</td>\n",
       "      <td>13</td>\n",
       "      <td>409.60</td>\n",
       "      <td>2015-05-01</td>\n",
       "      <td>US</td>\n",
       "      <td>ATM_INT</td>\n",
       "      <td>5</td>\n",
       "      <td>1</td>\n",
       "      <td>...</td>\n",
       "      <td>342.90</td>\n",
       "      <td>342.90</td>\n",
       "      <td>1</td>\n",
       "      <td>nan</td>\n",
       "      <td>nan</td>\n",
       "      <td>nan</td>\n",
       "      <td>6</td>\n",
       "      <td>295.10</td>\n",
       "      <td>2828.70</td>\n",
       "      <td>3246.30</td>\n",
       "    </tr>\n",
       "    <tr>\n",
       "      <th>4</th>\n",
       "      <td>9000000005</td>\n",
       "      <td>1</td>\n",
       "      <td>0.00</td>\n",
       "      <td>0</td>\n",
       "      <td>0.60</td>\n",
       "      <td>2015-05-10</td>\n",
       "      <td>CR</td>\n",
       "      <td>ATM_INT</td>\n",
       "      <td>0</td>\n",
       "      <td>10</td>\n",
       "      <td>...</td>\n",
       "      <td>0.00</td>\n",
       "      <td>0.00</td>\n",
       "      <td>1</td>\n",
       "      <td>nan</td>\n",
       "      <td>nan</td>\n",
       "      <td>nan</td>\n",
       "      <td>1</td>\n",
       "      <td>nan</td>\n",
       "      <td>921.90</td>\n",
       "      <td>0.60</td>\n",
       "    </tr>\n",
       "  </tbody>\n",
       "</table>\n",
       "<p>5 rows × 25 columns</p>\n",
       "</div>"
      ],
      "text/plain": [
       "   CustomerID  isFraud  Value  Time  Max_Dist_Nat       Date CountryISOCode  \\\n",
       "0  9000000001        1   0.00    13        409.60 2015-05-01             US   \n",
       "1  9000000002        1   0.00    17        369.60 2015-05-15             US   \n",
       "2  9000000003        1   0.00    13        409.60 2015-05-01             US   \n",
       "3  9000000004        1   0.00    13        409.60 2015-05-01             US   \n",
       "4  9000000005        1   0.00     0          0.60 2015-05-10             CR   \n",
       "\n",
       "  BusinessChannel  WeekDay  MonthDay  ...  Income  Expenditures  \\\n",
       "0         ATM_INT        5         1  ...  342.90        342.90   \n",
       "1         ATM_INT        5        15  ... 1612.50        142.90   \n",
       "2         ATM_INT        5         1  ...  342.90        342.90   \n",
       "3         ATM_INT        5         1  ...  342.90        342.90   \n",
       "4         ATM_INT        0        10  ...    0.00          0.00   \n",
       "\n",
       "  VisitedCountries Dist_Sum_Int  Dist_Mean_Int  Dist_Max_Int  \\\n",
       "0                1          nan            nan           nan   \n",
       "1                1          nan            nan           nan   \n",
       "2                1          nan            nan           nan   \n",
       "3                1          nan            nan           nan   \n",
       "4                1          nan            nan           nan   \n",
       "\n",
       "   NatVisitedCities  Dist_Mean_Nat  Dist_Today  Dist_Sum_Nat  \n",
       "0                 6         295.10     2828.70       3246.30  \n",
       "1                 5          18.20     2828.70       1261.30  \n",
       "2                 6         295.10     2828.70       3246.30  \n",
       "3                 6         295.10     2828.70       3246.30  \n",
       "4                 1            nan      921.90          0.60  \n",
       "\n",
       "[5 rows x 25 columns]"
      ]
     },
     "execution_count": 21,
     "metadata": {},
     "output_type": "execute_result"
    }
   ],
   "source": [
    "df.head()"
   ]
  },
  {
   "cell_type": "markdown",
   "metadata": {},
   "source": [
    "### Drop Unnecesary Columns"
   ]
  },
  {
   "cell_type": "markdown",
   "metadata": {},
   "source": [
    "## Data Exploration"
   ]
  },
  {
   "cell_type": "code",
   "execution_count": 22,
   "metadata": {
    "pycharm": {
     "name": "#%%\n"
    }
   },
   "outputs": [
    {
     "name": "stdout",
     "output_type": "stream",
     "text": [
      "<class 'pandas.core.frame.DataFrame'>\n",
      "RangeIndex: 2848 entries, 0 to 2847\n",
      "Data columns (total 25 columns):\n",
      " #   Column            Non-Null Count  Dtype         \n",
      "---  ------            --------------  -----         \n",
      " 0   CustomerID        2848 non-null   int64         \n",
      " 1   isFraud           2848 non-null   int64         \n",
      " 2   Value             2848 non-null   float64       \n",
      " 3   Time              2848 non-null   int64         \n",
      " 4   Max_Dist_Nat      2848 non-null   float64       \n",
      " 5   Date              2848 non-null   datetime64[ns]\n",
      " 6   CountryISOCode    2848 non-null   object        \n",
      " 7   BusinessChannel   2848 non-null   object        \n",
      " 8   WeekDay           2848 non-null   int64         \n",
      " 9   MonthDay          2848 non-null   int64         \n",
      " 10  VincDate          2824 non-null   datetime64[ns]\n",
      " 11  VincOffice        2824 non-null   float64       \n",
      " 12  Gender            2793 non-null   object        \n",
      " 13  Segment           2824 non-null   object        \n",
      " 14  Age               2824 non-null   float64       \n",
      " 15  Income            2848 non-null   float64       \n",
      " 16  Expenditures      2848 non-null   float64       \n",
      " 17  VisitedCountries  2848 non-null   int64         \n",
      " 18  Dist_Sum_Int      1353 non-null   float64       \n",
      " 19  Dist_Mean_Int     1353 non-null   float64       \n",
      " 20  Dist_Max_Int      1353 non-null   float64       \n",
      " 21  NatVisitedCities  2848 non-null   int64         \n",
      " 22  Dist_Mean_Nat     2420 non-null   float64       \n",
      " 23  Dist_Today        2848 non-null   float64       \n",
      " 24  Dist_Sum_Nat      2848 non-null   float64       \n",
      "dtypes: datetime64[ns](2), float64(12), int64(7), object(4)\n",
      "memory usage: 556.4+ KB\n"
     ]
    }
   ],
   "source": [
    "df.info()"
   ]
  },
  {
   "cell_type": "code",
   "execution_count": 23,
   "metadata": {},
   "outputs": [
    {
     "data": {
      "text/plain": [
       "array(['CustomerID', 'isFraud', 'Value', 'Time', 'Max_Dist_Nat', 'Date',\n",
       "       'CountryISOCode', 'BusinessChannel', 'WeekDay', 'MonthDay',\n",
       "       'VincDate', 'VincOffice', 'Gender', 'Segment', 'Age', 'Income',\n",
       "       'Expenditures', 'VisitedCountries', 'Dist_Sum_Int',\n",
       "       'Dist_Mean_Int', 'Dist_Max_Int', 'NatVisitedCities',\n",
       "       'Dist_Mean_Nat', 'Dist_Today', 'Dist_Sum_Nat'], dtype=object)"
      ]
     },
     "execution_count": 23,
     "metadata": {},
     "output_type": "execute_result"
    }
   ],
   "source": [
    "df.columns.values"
   ]
  },
  {
   "cell_type": "code",
   "execution_count": 24,
   "metadata": {},
   "outputs": [
    {
     "data": {
      "text/html": [
       "<div>\n",
       "<style scoped>\n",
       "    .dataframe tbody tr th:only-of-type {\n",
       "        vertical-align: middle;\n",
       "    }\n",
       "\n",
       "    .dataframe tbody tr th {\n",
       "        vertical-align: top;\n",
       "    }\n",
       "\n",
       "    .dataframe thead th {\n",
       "        text-align: right;\n",
       "    }\n",
       "</style>\n",
       "<table border=\"1\" class=\"dataframe\">\n",
       "  <thead>\n",
       "    <tr style=\"text-align: right;\">\n",
       "      <th></th>\n",
       "      <th>isFraud</th>\n",
       "      <th>Value</th>\n",
       "      <th>Time</th>\n",
       "      <th>Max_Dist_Nat</th>\n",
       "      <th>CountryISOCode</th>\n",
       "      <th>BusinessChannel</th>\n",
       "      <th>WeekDay</th>\n",
       "      <th>MonthDay</th>\n",
       "      <th>Gender</th>\n",
       "      <th>Segment</th>\n",
       "      <th>...</th>\n",
       "      <th>Income</th>\n",
       "      <th>Expenditures</th>\n",
       "      <th>VisitedCountries</th>\n",
       "      <th>Dist_Sum_Int</th>\n",
       "      <th>Dist_Mean_Int</th>\n",
       "      <th>Dist_Max_Int</th>\n",
       "      <th>NatVisitedCities</th>\n",
       "      <th>Dist_Mean_Nat</th>\n",
       "      <th>Dist_Today</th>\n",
       "      <th>Dist_Sum_Nat</th>\n",
       "    </tr>\n",
       "  </thead>\n",
       "  <tbody>\n",
       "    <tr>\n",
       "      <th>0</th>\n",
       "      <td>1</td>\n",
       "      <td>0.00</td>\n",
       "      <td>13</td>\n",
       "      <td>409.60</td>\n",
       "      <td>US</td>\n",
       "      <td>ATM_INT</td>\n",
       "      <td>5</td>\n",
       "      <td>1</td>\n",
       "      <td>M</td>\n",
       "      <td>Personal Plus</td>\n",
       "      <td>...</td>\n",
       "      <td>342.90</td>\n",
       "      <td>342.90</td>\n",
       "      <td>1</td>\n",
       "      <td>nan</td>\n",
       "      <td>nan</td>\n",
       "      <td>nan</td>\n",
       "      <td>6</td>\n",
       "      <td>295.10</td>\n",
       "      <td>2828.70</td>\n",
       "      <td>3246.30</td>\n",
       "    </tr>\n",
       "    <tr>\n",
       "      <th>1</th>\n",
       "      <td>1</td>\n",
       "      <td>0.00</td>\n",
       "      <td>17</td>\n",
       "      <td>369.60</td>\n",
       "      <td>US</td>\n",
       "      <td>ATM_INT</td>\n",
       "      <td>5</td>\n",
       "      <td>15</td>\n",
       "      <td>M</td>\n",
       "      <td>Personal Plus</td>\n",
       "      <td>...</td>\n",
       "      <td>1612.50</td>\n",
       "      <td>142.90</td>\n",
       "      <td>1</td>\n",
       "      <td>nan</td>\n",
       "      <td>nan</td>\n",
       "      <td>nan</td>\n",
       "      <td>5</td>\n",
       "      <td>18.20</td>\n",
       "      <td>2828.70</td>\n",
       "      <td>1261.30</td>\n",
       "    </tr>\n",
       "    <tr>\n",
       "      <th>2</th>\n",
       "      <td>1</td>\n",
       "      <td>0.00</td>\n",
       "      <td>13</td>\n",
       "      <td>409.60</td>\n",
       "      <td>US</td>\n",
       "      <td>ATM_INT</td>\n",
       "      <td>5</td>\n",
       "      <td>1</td>\n",
       "      <td>M</td>\n",
       "      <td>Personal Plus</td>\n",
       "      <td>...</td>\n",
       "      <td>342.90</td>\n",
       "      <td>342.90</td>\n",
       "      <td>1</td>\n",
       "      <td>nan</td>\n",
       "      <td>nan</td>\n",
       "      <td>nan</td>\n",
       "      <td>6</td>\n",
       "      <td>295.10</td>\n",
       "      <td>2828.70</td>\n",
       "      <td>3246.30</td>\n",
       "    </tr>\n",
       "    <tr>\n",
       "      <th>3</th>\n",
       "      <td>1</td>\n",
       "      <td>0.00</td>\n",
       "      <td>13</td>\n",
       "      <td>409.60</td>\n",
       "      <td>US</td>\n",
       "      <td>ATM_INT</td>\n",
       "      <td>5</td>\n",
       "      <td>1</td>\n",
       "      <td>M</td>\n",
       "      <td>Personal Plus</td>\n",
       "      <td>...</td>\n",
       "      <td>342.90</td>\n",
       "      <td>342.90</td>\n",
       "      <td>1</td>\n",
       "      <td>nan</td>\n",
       "      <td>nan</td>\n",
       "      <td>nan</td>\n",
       "      <td>6</td>\n",
       "      <td>295.10</td>\n",
       "      <td>2828.70</td>\n",
       "      <td>3246.30</td>\n",
       "    </tr>\n",
       "    <tr>\n",
       "      <th>4</th>\n",
       "      <td>1</td>\n",
       "      <td>0.00</td>\n",
       "      <td>0</td>\n",
       "      <td>0.60</td>\n",
       "      <td>CR</td>\n",
       "      <td>ATM_INT</td>\n",
       "      <td>0</td>\n",
       "      <td>10</td>\n",
       "      <td>M</td>\n",
       "      <td>Personal</td>\n",
       "      <td>...</td>\n",
       "      <td>0.00</td>\n",
       "      <td>0.00</td>\n",
       "      <td>1</td>\n",
       "      <td>nan</td>\n",
       "      <td>nan</td>\n",
       "      <td>nan</td>\n",
       "      <td>1</td>\n",
       "      <td>nan</td>\n",
       "      <td>921.90</td>\n",
       "      <td>0.60</td>\n",
       "    </tr>\n",
       "  </tbody>\n",
       "</table>\n",
       "<p>5 rows × 21 columns</p>\n",
       "</div>"
      ],
      "text/plain": [
       "   isFraud  Value  Time  Max_Dist_Nat CountryISOCode BusinessChannel  WeekDay  \\\n",
       "0        1   0.00    13        409.60             US         ATM_INT        5   \n",
       "1        1   0.00    17        369.60             US         ATM_INT        5   \n",
       "2        1   0.00    13        409.60             US         ATM_INT        5   \n",
       "3        1   0.00    13        409.60             US         ATM_INT        5   \n",
       "4        1   0.00     0          0.60             CR         ATM_INT        0   \n",
       "\n",
       "   MonthDay Gender        Segment  ...  Income  Expenditures  \\\n",
       "0         1      M  Personal Plus  ...  342.90        342.90   \n",
       "1        15      M  Personal Plus  ... 1612.50        142.90   \n",
       "2         1      M  Personal Plus  ...  342.90        342.90   \n",
       "3         1      M  Personal Plus  ...  342.90        342.90   \n",
       "4        10      M       Personal  ...    0.00          0.00   \n",
       "\n",
       "   VisitedCountries  Dist_Sum_Int  Dist_Mean_Int  Dist_Max_Int  \\\n",
       "0                 1           nan            nan           nan   \n",
       "1                 1           nan            nan           nan   \n",
       "2                 1           nan            nan           nan   \n",
       "3                 1           nan            nan           nan   \n",
       "4                 1           nan            nan           nan   \n",
       "\n",
       "   NatVisitedCities  Dist_Mean_Nat  Dist_Today  Dist_Sum_Nat  \n",
       "0                 6         295.10     2828.70       3246.30  \n",
       "1                 5          18.20     2828.70       1261.30  \n",
       "2                 6         295.10     2828.70       3246.30  \n",
       "3                 6         295.10     2828.70       3246.30  \n",
       "4                 1            nan      921.90          0.60  \n",
       "\n",
       "[5 rows x 21 columns]"
      ]
     },
     "execution_count": 24,
     "metadata": {},
     "output_type": "execute_result"
    }
   ],
   "source": [
    "labels = ['CustomerID', 'Date', 'VincDate','VincOffice']\n",
    "df.drop(labels=labels, axis = 1, inplace = True)\n",
    "df.head()"
   ]
  },
  {
   "cell_type": "markdown",
   "metadata": {},
   "source": [
    "### Missing values"
   ]
  },
  {
   "cell_type": "code",
   "execution_count": 25,
   "metadata": {
    "pycharm": {
     "name": "#%%\n"
    }
   },
   "outputs": [
    {
     "data": {
      "text/html": [
       "<div>\n",
       "<style scoped>\n",
       "    .dataframe tbody tr th:only-of-type {\n",
       "        vertical-align: middle;\n",
       "    }\n",
       "\n",
       "    .dataframe tbody tr th {\n",
       "        vertical-align: top;\n",
       "    }\n",
       "\n",
       "    .dataframe thead th {\n",
       "        text-align: right;\n",
       "    }\n",
       "</style>\n",
       "<table border=\"1\" class=\"dataframe\">\n",
       "  <thead>\n",
       "    <tr style=\"text-align: right;\">\n",
       "      <th></th>\n",
       "      <th>Nulls</th>\n",
       "    </tr>\n",
       "  </thead>\n",
       "  <tbody>\n",
       "    <tr>\n",
       "      <th>Gender</th>\n",
       "      <td>55</td>\n",
       "    </tr>\n",
       "    <tr>\n",
       "      <th>Segment</th>\n",
       "      <td>24</td>\n",
       "    </tr>\n",
       "    <tr>\n",
       "      <th>Age</th>\n",
       "      <td>24</td>\n",
       "    </tr>\n",
       "    <tr>\n",
       "      <th>Dist_Sum_Int</th>\n",
       "      <td>1495</td>\n",
       "    </tr>\n",
       "    <tr>\n",
       "      <th>Dist_Mean_Int</th>\n",
       "      <td>1495</td>\n",
       "    </tr>\n",
       "    <tr>\n",
       "      <th>Dist_Max_Int</th>\n",
       "      <td>1495</td>\n",
       "    </tr>\n",
       "    <tr>\n",
       "      <th>Dist_Mean_Nat</th>\n",
       "      <td>428</td>\n",
       "    </tr>\n",
       "  </tbody>\n",
       "</table>\n",
       "</div>"
      ],
      "text/plain": [
       "               Nulls\n",
       "Gender            55\n",
       "Segment           24\n",
       "Age               24\n",
       "Dist_Sum_Int    1495\n",
       "Dist_Mean_Int   1495\n",
       "Dist_Max_Int    1495\n",
       "Dist_Mean_Nat    428"
      ]
     },
     "execution_count": 25,
     "metadata": {},
     "output_type": "execute_result"
    }
   ],
   "source": [
    "df.isnull().sum()[df.isnull().sum()>0].to_frame('Nulls')"
   ]
  },
  {
   "cell_type": "markdown",
   "metadata": {},
   "source": [
    "According to business rules the distances cannot be calculated nor imputed. The missing values will be replaced with zeros.  \n",
    "Also, values  missing values in other columns will be dropped."
   ]
  },
  {
   "cell_type": "code",
   "execution_count": 26,
   "metadata": {
    "pycharm": {
     "name": "#%%\n"
    }
   },
   "outputs": [],
   "source": [
    "df['Dist_Sum_Int'].replace(np.NaN,0.,inplace=True)\n",
    "df['Dist_Mean_Int'].replace(np.NaN,0.,inplace=True)\n",
    "df['Dist_Max_Int'].replace(np.NaN,0.,inplace=True)\n",
    "df['Dist_Mean_Nat'].replace(np.NaN,0.,inplace=True)\n",
    "df.dropna(axis=0,inplace = True)"
   ]
  },
  {
   "cell_type": "markdown",
   "metadata": {
    "pycharm": {
     "name": "#%%\n"
    }
   },
   "source": [
    "Let's focus on the target feature `isFraud` and its correlations with the other features."
   ]
  },
  {
   "cell_type": "code",
   "execution_count": 27,
   "metadata": {
    "pycharm": {
     "name": "#%%\n"
    }
   },
   "outputs": [
    {
     "data": {
      "text/html": [
       "<div>\n",
       "<style scoped>\n",
       "    .dataframe tbody tr th:only-of-type {\n",
       "        vertical-align: middle;\n",
       "    }\n",
       "\n",
       "    .dataframe tbody tr th {\n",
       "        vertical-align: top;\n",
       "    }\n",
       "\n",
       "    .dataframe thead th {\n",
       "        text-align: right;\n",
       "    }\n",
       "</style>\n",
       "<table border=\"1\" class=\"dataframe\">\n",
       "  <thead>\n",
       "    <tr style=\"text-align: right;\">\n",
       "      <th></th>\n",
       "      <th>isFraud</th>\n",
       "    </tr>\n",
       "  </thead>\n",
       "  <tbody>\n",
       "    <tr>\n",
       "      <th>isFraud</th>\n",
       "      <td>1.00</td>\n",
       "    </tr>\n",
       "    <tr>\n",
       "      <th>WeekDay</th>\n",
       "      <td>0.13</td>\n",
       "    </tr>\n",
       "    <tr>\n",
       "      <th>Value</th>\n",
       "      <td>0.10</td>\n",
       "    </tr>\n",
       "    <tr>\n",
       "      <th>Max_Dist_Nat</th>\n",
       "      <td>0.06</td>\n",
       "    </tr>\n",
       "    <tr>\n",
       "      <th>Dist_Mean_Nat</th>\n",
       "      <td>0.06</td>\n",
       "    </tr>\n",
       "    <tr>\n",
       "      <th>MonthDay</th>\n",
       "      <td>0.02</td>\n",
       "    </tr>\n",
       "    <tr>\n",
       "      <th>Dist_Sum_Nat</th>\n",
       "      <td>-0.01</td>\n",
       "    </tr>\n",
       "    <tr>\n",
       "      <th>Income</th>\n",
       "      <td>-0.05</td>\n",
       "    </tr>\n",
       "    <tr>\n",
       "      <th>Expenditures</th>\n",
       "      <td>-0.05</td>\n",
       "    </tr>\n",
       "    <tr>\n",
       "      <th>Dist_Today</th>\n",
       "      <td>-0.06</td>\n",
       "    </tr>\n",
       "    <tr>\n",
       "      <th>Time</th>\n",
       "      <td>-0.07</td>\n",
       "    </tr>\n",
       "    <tr>\n",
       "      <th>Dist_Mean_Int</th>\n",
       "      <td>-0.08</td>\n",
       "    </tr>\n",
       "    <tr>\n",
       "      <th>Dist_Sum_Int</th>\n",
       "      <td>-0.08</td>\n",
       "    </tr>\n",
       "    <tr>\n",
       "      <th>NatVisitedCities</th>\n",
       "      <td>-0.09</td>\n",
       "    </tr>\n",
       "    <tr>\n",
       "      <th>Age</th>\n",
       "      <td>-0.09</td>\n",
       "    </tr>\n",
       "    <tr>\n",
       "      <th>Dist_Max_Int</th>\n",
       "      <td>-0.09</td>\n",
       "    </tr>\n",
       "    <tr>\n",
       "      <th>VisitedCountries</th>\n",
       "      <td>-0.09</td>\n",
       "    </tr>\n",
       "  </tbody>\n",
       "</table>\n",
       "</div>"
      ],
      "text/plain": [
       "                  isFraud\n",
       "isFraud              1.00\n",
       "WeekDay              0.13\n",
       "Value                0.10\n",
       "Max_Dist_Nat         0.06\n",
       "Dist_Mean_Nat        0.06\n",
       "MonthDay             0.02\n",
       "Dist_Sum_Nat        -0.01\n",
       "Income              -0.05\n",
       "Expenditures        -0.05\n",
       "Dist_Today          -0.06\n",
       "Time                -0.07\n",
       "Dist_Mean_Int       -0.08\n",
       "Dist_Sum_Int        -0.08\n",
       "NatVisitedCities    -0.09\n",
       "Age                 -0.09\n",
       "Dist_Max_Int        -0.09\n",
       "VisitedCountries    -0.09"
      ]
     },
     "execution_count": 27,
     "metadata": {},
     "output_type": "execute_result"
    }
   ],
   "source": [
    "corr_matrix = df.corr()\n",
    "corr_matrix[['isFraud']].sort_values(by ='isFraud',ascending=False)"
   ]
  },
  {
   "cell_type": "code",
   "execution_count": 33,
   "metadata": {},
   "outputs": [
    {
     "data": {
      "text/plain": [
       "0.00    12\n",
       "Name: Age, dtype: int64"
      ]
     },
     "execution_count": 33,
     "metadata": {},
     "output_type": "execute_result"
    }
   ],
   "source": [
    "df[df['Age']==0]['Age'].value_counts()"
   ]
  },
  {
   "cell_type": "markdown",
   "metadata": {},
   "source": [
    "### Balance of target variable"
   ]
  },
  {
   "cell_type": "code",
   "execution_count": 34,
   "metadata": {
    "pycharm": {
     "name": "#%%\n"
    }
   },
   "outputs": [
    {
     "name": "stdout",
     "output_type": "stream",
     "text": [
      "Proportion: 3.0 : 1\n"
     ]
    },
    {
     "data": {
      "text/html": [
       "<div>\n",
       "<style scoped>\n",
       "    .dataframe tbody tr th:only-of-type {\n",
       "        vertical-align: middle;\n",
       "    }\n",
       "\n",
       "    .dataframe tbody tr th {\n",
       "        vertical-align: top;\n",
       "    }\n",
       "\n",
       "    .dataframe thead th {\n",
       "        text-align: right;\n",
       "    }\n",
       "</style>\n",
       "<table border=\"1\" class=\"dataframe\">\n",
       "  <thead>\n",
       "    <tr style=\"text-align: right;\">\n",
       "      <th></th>\n",
       "      <th>isFraud</th>\n",
       "    </tr>\n",
       "  </thead>\n",
       "  <tbody>\n",
       "    <tr>\n",
       "      <th>0</th>\n",
       "      <td>2093</td>\n",
       "    </tr>\n",
       "    <tr>\n",
       "      <th>1</th>\n",
       "      <td>700</td>\n",
       "    </tr>\n",
       "  </tbody>\n",
       "</table>\n",
       "</div>"
      ],
      "text/plain": [
       "   isFraud\n",
       "0     2093\n",
       "1      700"
      ]
     },
     "execution_count": 34,
     "metadata": {},
     "output_type": "execute_result"
    }
   ],
   "source": [
    "print(\"Proportion:\", round(df['isFraud'].value_counts()[0]/df['isFraud'].value_counts()[1],1),\": 1\")\n",
    "df['isFraud'].value_counts().to_frame()"
   ]
  },
  {
   "cell_type": "markdown",
   "metadata": {},
   "source": [
    "We can notice that we have more Non-Fraudulent transactions than Fraudulent ones."
   ]
  },
  {
   "cell_type": "code",
   "execution_count": 35,
   "metadata": {
    "pycharm": {
     "name": "#%%\n"
    }
   },
   "outputs": [
    {
     "data": {
      "image/png": "[encoded data removed]",
      "text/plain": [
       "<Figure size 432x288 with 1 Axes>"
      ]
     },
     "metadata": {},
     "output_type": "display_data"
    }
   ],
   "source": [
    "sns.countplot(df['isFraud'])\n",
    "plt.show()"
   ]
  },
  {
   "cell_type": "markdown",
   "metadata": {},
   "source": [
    "Continue by checking the ocurrences of `Frauds` according to the `Business Channel`."
   ]
  },
  {
   "cell_type": "code",
   "execution_count": 36,
   "metadata": {
    "pycharm": {
     "name": "#%%\n"
    }
   },
   "outputs": [
    {
     "data": {
      "image/png": "[encoded data removed]",
      "text/plain": [
       "<Figure size 432x288 with 1 Axes>"
      ]
     },
     "metadata": {},
     "output_type": "display_data"
    }
   ],
   "source": [
    "sns.countplot(df['BusinessChannel'],hue=df['isFraud'])\n",
    "plt.show()"
   ]
  },
  {
   "cell_type": "markdown",
   "metadata": {},
   "source": [
    "Notice that more frauds were commited in ATMs."
   ]
  },
  {
   "cell_type": "markdown",
   "metadata": {},
   "source": [
    "## Value of transactions distribution"
   ]
  },
  {
   "cell_type": "code",
   "execution_count": 78,
   "metadata": {
    "pycharm": {
     "name": "#%%\n"
    }
   },
   "outputs": [
    {
     "data": {
      "image/png": "[encoded data removed]",
      "text/plain": [
       "<Figure size 1152x648 with 2 Axes>"
      ]
     },
     "metadata": {},
     "output_type": "display_data"
    }
   ],
   "source": [
    "fig,ax = plt.subplots(2,1, figsize=(16, 9), sharex=True,sharey=True)\n",
    "ax[0].set_title('Non-Fraudulent')\n",
    "sns.distplot(df[df['isFraud']==0]['Value'],ax=ax[0],color='green')\n",
    "ax[1].set_title('Fraudulent')\n",
    "sns.distplot(df[df['isFraud']==1]['Value'],ax=ax[1],color='red')\n",
    "plt.tight_layout()"
   ]
  },
  {
   "cell_type": "markdown",
   "metadata": {},
   "source": [
    "The value of Non-Fraudulent and Fraudulent shows a similar distribution, but Fraudulent values do not ~USD2,000."
   ]
  },
  {
   "cell_type": "markdown",
   "metadata": {},
   "source": [
    "## Frauds per Country"
   ]
  },
  {
   "cell_type": "code",
   "execution_count": 79,
   "metadata": {},
   "outputs": [
    {
     "data": {
      "image/png": "[encoded data removed]",
      "text/plain": [
       "<Figure size 1152x648 with 2 Axes>"
      ]
     },
     "metadata": {},
     "output_type": "display_data"
    }
   ],
   "source": [
    "country_dict = {i.alpha_2: i.alpha_3 for i in pycountry.countries}\n",
    "countries = pd.DataFrame(df[df['isFraud']==1]['CountryISOCode'].value_counts()).T.rename(columns=country_dict, index={'CountryISOCode': 'count'})\n",
    "countries = countries.T.rename_axis('iso_a3').reset_index()\n",
    "countries.T\n",
    "\n",
    "file = gpd.datasets.get_path('naturalearth_lowres')\n",
    "world = gpd.read_file(file)\n",
    "\n",
    "sns.set_style(\"white\")\n",
    "world = pd.merge(world, right=countries, how='left', on='iso_a3').fillna(0)\n",
    "fig, ax = plt.subplots(figsize=(16,9))\n",
    "\n",
    "sm = plt.cm.ScalarMappable(cmap='Blues', norm=plt.Normalize(vmin=world['count'].min(), vmax=world['count'].max()))\n",
    "sm.set_array([])\n",
    "fig.colorbar(sm)\n",
    "ax.set_xticks([])\n",
    "ax.set_yticks([])\n",
    "ax.set_title('Frauds per country', size=16)\n",
    "world.drop(159).plot(column='count', cmap='Blues', linewidth=0.8, ax=ax, edgecolor='0.8'); sns.set()\n",
    "plt.box(on=None)"
   ]
  },
  {
   "cell_type": "markdown",
   "metadata": {},
   "source": [
    "## Frauds along the day"
   ]
  },
  {
   "cell_type": "code",
   "execution_count": 82,
   "metadata": {},
   "outputs": [
    {
     "data": {
      "image/png": "[encoded data removed]",
      "text/plain": [
       "<Figure size 1152x648 with 2 Axes>"
      ]
     },
     "metadata": {},
     "output_type": "display_data"
    }
   ],
   "source": [
    "fig,ax = plt.subplots(2,1, figsize=(16, 9), sharex=True,sharey=True)\n",
    "ax[0].set_title('Non-Fraudulent')\n",
    "sns.distplot(df[df['isFraud']==0]['Time'],ax=ax[0],color='green')\n",
    "ax[1].set_title('Fraudulent')\n",
    "sns.distplot(df[df['isFraud']==1]['Time'],ax=ax[1],color='red')\n",
    "plt.xlim((0,23))\n",
    "plt.tight_layout()"
   ]
  },
  {
   "cell_type": "markdown",
   "metadata": {},
   "source": [
    "### Selecting Best Features"
   ]
  },
  {
   "cell_type": "code",
   "execution_count": 94,
   "metadata": {},
   "outputs": [
    {
     "data": {
      "text/html": [
       "<div>\n",
       "<style scoped>\n",
       "    .dataframe tbody tr th:only-of-type {\n",
       "        vertical-align: middle;\n",
       "    }\n",
       "\n",
       "    .dataframe tbody tr th {\n",
       "        vertical-align: top;\n",
       "    }\n",
       "\n",
       "    .dataframe thead th {\n",
       "        text-align: right;\n",
       "    }\n",
       "</style>\n",
       "<table border=\"1\" class=\"dataframe\">\n",
       "  <thead>\n",
       "    <tr style=\"text-align: right;\">\n",
       "      <th></th>\n",
       "      <th>Feature</th>\n",
       "      <th>Score</th>\n",
       "    </tr>\n",
       "  </thead>\n",
       "  <tbody>\n",
       "    <tr>\n",
       "      <th>7</th>\n",
       "      <td>Expenditures</td>\n",
       "      <td>1014413.23</td>\n",
       "    </tr>\n",
       "    <tr>\n",
       "      <th>9</th>\n",
       "      <td>Dist_Sum_Int</td>\n",
       "      <td>626656.12</td>\n",
       "    </tr>\n",
       "    <tr>\n",
       "      <th>6</th>\n",
       "      <td>Income</td>\n",
       "      <td>425334.83</td>\n",
       "    </tr>\n",
       "    <tr>\n",
       "      <th>11</th>\n",
       "      <td>Dist_Max_Int</td>\n",
       "      <td>57838.85</td>\n",
       "    </tr>\n",
       "    <tr>\n",
       "      <th>10</th>\n",
       "      <td>Dist_Mean_Int</td>\n",
       "      <td>32529.86</td>\n",
       "    </tr>\n",
       "    <tr>\n",
       "      <th>0</th>\n",
       "      <td>Value</td>\n",
       "      <td>16193.31</td>\n",
       "    </tr>\n",
       "    <tr>\n",
       "      <th>14</th>\n",
       "      <td>Dist_Today</td>\n",
       "      <td>4003.35</td>\n",
       "    </tr>\n",
       "    <tr>\n",
       "      <th>2</th>\n",
       "      <td>Max_Dist_Nat</td>\n",
       "      <td>1790.81</td>\n",
       "    </tr>\n",
       "    <tr>\n",
       "      <th>13</th>\n",
       "      <td>Dist_Mean_Nat</td>\n",
       "      <td>1369.42</td>\n",
       "    </tr>\n",
       "    <tr>\n",
       "      <th>15</th>\n",
       "      <td>Dist_Sum_Nat</td>\n",
       "      <td>287.89</td>\n",
       "    </tr>\n",
       "    <tr>\n",
       "      <th>5</th>\n",
       "      <td>Age</td>\n",
       "      <td>93.17</td>\n",
       "    </tr>\n",
       "    <tr>\n",
       "      <th>3</th>\n",
       "      <td>WeekDay</td>\n",
       "      <td>69.48</td>\n",
       "    </tr>\n",
       "    <tr>\n",
       "      <th>12</th>\n",
       "      <td>NatVisitedCities</td>\n",
       "      <td>40.33</td>\n",
       "    </tr>\n",
       "    <tr>\n",
       "      <th>1</th>\n",
       "      <td>Time</td>\n",
       "      <td>32.72</td>\n",
       "    </tr>\n",
       "    <tr>\n",
       "      <th>8</th>\n",
       "      <td>VisitedCountries</td>\n",
       "      <td>14.84</td>\n",
       "    </tr>\n",
       "    <tr>\n",
       "      <th>4</th>\n",
       "      <td>MonthDay</td>\n",
       "      <td>4.87</td>\n",
       "    </tr>\n",
       "  </tbody>\n",
       "</table>\n",
       "</div>"
      ],
      "text/plain": [
       "             Feature      Score\n",
       "7       Expenditures 1014413.23\n",
       "9       Dist_Sum_Int  626656.12\n",
       "6             Income  425334.83\n",
       "11      Dist_Max_Int   57838.85\n",
       "10     Dist_Mean_Int   32529.86\n",
       "0              Value   16193.31\n",
       "14        Dist_Today    4003.35\n",
       "2       Max_Dist_Nat    1790.81\n",
       "13     Dist_Mean_Nat    1369.42\n",
       "15      Dist_Sum_Nat     287.89\n",
       "5                Age      93.17\n",
       "3            WeekDay      69.48\n",
       "12  NatVisitedCities      40.33\n",
       "1               Time      32.72\n",
       "8   VisitedCountries      14.84\n",
       "4           MonthDay       4.87"
      ]
     },
     "execution_count": 94,
     "metadata": {},
     "output_type": "execute_result"
    }
   ],
   "source": [
    "from sklearn.feature_selection import chi2, SelectKBest\n",
    "labels =['CountryISOCode','BusinessChannel','Gender','Segment','isFraud']\n",
    "bestfeatures = SelectKBest(chi2, k='all')\n",
    "fit = bestfeatures.fit(df.drop(labels,axis=1), df['isFraud'])\n",
    "\n",
    "dfscores = pd.DataFrame(fit.scores_)\n",
    "dfcolumns = pd.DataFrame(df.drop(labels,axis=1).columns)\n",
    "\n",
    "featureScores = pd.concat([dfcolumns,dfscores],axis=1)\n",
    "featureScores.columns = ['Feature','Score']\n",
    "featureScores.sort_values(by='Score',ascending=False)"
   ]
  },
  {
   "cell_type": "markdown",
   "metadata": {},
   "source": [
    "### Correlation between features"
   ]
  },
  {
   "cell_type": "code",
   "execution_count": 84,
   "metadata": {
    "pycharm": {
     "name": "#%%\n"
    }
   },
   "outputs": [
    {
     "data": {
      "image/png": "[encoded data removed]",
      "text/plain": [
       "<Figure size 1080x1080 with 2 Axes>"
      ]
     },
     "metadata": {},
     "output_type": "display_data"
    }
   ],
   "source": [
    "def graph_corr_matrix(df: pd.DataFrame):\n",
    "    corr = df.corr().abs()\n",
    "    fig, ax = plt.subplots(figsize=(15,15))\n",
    "\n",
    "    cmap = sns.diverging_palette(250, 15, s=75, l=40,n=9,center=\"light\",as_cmap=True)\n",
    "    img_corr = sns.heatmap(corr, cmap=cmap, vmax=1, center=0,square=True, linewidths=.7, \n",
    "                           cbar_kws={\"shrink\": .7},ax=ax)\n",
    "    return img_corr\n",
    "graph_corr_matrix(df.drop('isFraud',axis=1))\n",
    "plt.show()"
   ]
  },
  {
   "cell_type": "markdown",
   "metadata": {},
   "source": [
    "## Categorical Features"
   ]
  },
  {
   "cell_type": "markdown",
   "metadata": {},
   "source": [
    "Most Machine Learning algorithms prefer work with numbers, let's convert these categories from text to numbers."
   ]
  },
  {
   "cell_type": "code",
   "execution_count": 85,
   "metadata": {
    "pycharm": {
     "name": "#%%\n"
    }
   },
   "outputs": [
    {
     "data": {
      "text/html": [
       "<div>\n",
       "<style scoped>\n",
       "    .dataframe tbody tr th:only-of-type {\n",
       "        vertical-align: middle;\n",
       "    }\n",
       "\n",
       "    .dataframe tbody tr th {\n",
       "        vertical-align: top;\n",
       "    }\n",
       "\n",
       "    .dataframe thead th {\n",
       "        text-align: right;\n",
       "    }\n",
       "</style>\n",
       "<table border=\"1\" class=\"dataframe\">\n",
       "  <thead>\n",
       "    <tr style=\"text-align: right;\">\n",
       "      <th></th>\n",
       "      <th>isFraud</th>\n",
       "      <th>Value</th>\n",
       "      <th>Time</th>\n",
       "      <th>Max_Dist_Nat</th>\n",
       "      <th>WeekDay</th>\n",
       "      <th>MonthDay</th>\n",
       "      <th>Age</th>\n",
       "      <th>Income</th>\n",
       "      <th>Expenditures</th>\n",
       "      <th>VisitedCountries</th>\n",
       "      <th>...</th>\n",
       "      <th>BusinessChannel_MCI</th>\n",
       "      <th>BusinessChannel_POS</th>\n",
       "      <th>Gender_F</th>\n",
       "      <th>Gender_M</th>\n",
       "      <th>Segment_Emprendedor</th>\n",
       "      <th>Segment_Empresarial</th>\n",
       "      <th>Segment_PYME</th>\n",
       "      <th>Segment_Personal</th>\n",
       "      <th>Segment_Personal Plus</th>\n",
       "      <th>Segment_Preferencial</th>\n",
       "    </tr>\n",
       "  </thead>\n",
       "  <tbody>\n",
       "    <tr>\n",
       "      <th>0</th>\n",
       "      <td>1</td>\n",
       "      <td>0.00</td>\n",
       "      <td>13</td>\n",
       "      <td>409.60</td>\n",
       "      <td>5</td>\n",
       "      <td>1</td>\n",
       "      <td>29.00</td>\n",
       "      <td>342.90</td>\n",
       "      <td>342.90</td>\n",
       "      <td>1</td>\n",
       "      <td>...</td>\n",
       "      <td>0</td>\n",
       "      <td>0</td>\n",
       "      <td>0</td>\n",
       "      <td>1</td>\n",
       "      <td>0</td>\n",
       "      <td>0</td>\n",
       "      <td>0</td>\n",
       "      <td>0</td>\n",
       "      <td>1</td>\n",
       "      <td>0</td>\n",
       "    </tr>\n",
       "    <tr>\n",
       "      <th>1</th>\n",
       "      <td>1</td>\n",
       "      <td>0.00</td>\n",
       "      <td>17</td>\n",
       "      <td>369.60</td>\n",
       "      <td>5</td>\n",
       "      <td>15</td>\n",
       "      <td>29.00</td>\n",
       "      <td>1612.50</td>\n",
       "      <td>142.90</td>\n",
       "      <td>1</td>\n",
       "      <td>...</td>\n",
       "      <td>0</td>\n",
       "      <td>0</td>\n",
       "      <td>0</td>\n",
       "      <td>1</td>\n",
       "      <td>0</td>\n",
       "      <td>0</td>\n",
       "      <td>0</td>\n",
       "      <td>0</td>\n",
       "      <td>1</td>\n",
       "      <td>0</td>\n",
       "    </tr>\n",
       "    <tr>\n",
       "      <th>2</th>\n",
       "      <td>1</td>\n",
       "      <td>0.00</td>\n",
       "      <td>13</td>\n",
       "      <td>409.60</td>\n",
       "      <td>5</td>\n",
       "      <td>1</td>\n",
       "      <td>29.00</td>\n",
       "      <td>342.90</td>\n",
       "      <td>342.90</td>\n",
       "      <td>1</td>\n",
       "      <td>...</td>\n",
       "      <td>0</td>\n",
       "      <td>0</td>\n",
       "      <td>0</td>\n",
       "      <td>1</td>\n",
       "      <td>0</td>\n",
       "      <td>0</td>\n",
       "      <td>0</td>\n",
       "      <td>0</td>\n",
       "      <td>1</td>\n",
       "      <td>0</td>\n",
       "    </tr>\n",
       "    <tr>\n",
       "      <th>3</th>\n",
       "      <td>1</td>\n",
       "      <td>0.00</td>\n",
       "      <td>13</td>\n",
       "      <td>409.60</td>\n",
       "      <td>5</td>\n",
       "      <td>1</td>\n",
       "      <td>29.00</td>\n",
       "      <td>342.90</td>\n",
       "      <td>342.90</td>\n",
       "      <td>1</td>\n",
       "      <td>...</td>\n",
       "      <td>0</td>\n",
       "      <td>0</td>\n",
       "      <td>0</td>\n",
       "      <td>1</td>\n",
       "      <td>0</td>\n",
       "      <td>0</td>\n",
       "      <td>0</td>\n",
       "      <td>0</td>\n",
       "      <td>1</td>\n",
       "      <td>0</td>\n",
       "    </tr>\n",
       "    <tr>\n",
       "      <th>4</th>\n",
       "      <td>1</td>\n",
       "      <td>0.00</td>\n",
       "      <td>0</td>\n",
       "      <td>0.60</td>\n",
       "      <td>0</td>\n",
       "      <td>10</td>\n",
       "      <td>25.00</td>\n",
       "      <td>0.00</td>\n",
       "      <td>0.00</td>\n",
       "      <td>1</td>\n",
       "      <td>...</td>\n",
       "      <td>0</td>\n",
       "      <td>0</td>\n",
       "      <td>0</td>\n",
       "      <td>1</td>\n",
       "      <td>0</td>\n",
       "      <td>0</td>\n",
       "      <td>0</td>\n",
       "      <td>1</td>\n",
       "      <td>0</td>\n",
       "      <td>0</td>\n",
       "    </tr>\n",
       "  </tbody>\n",
       "</table>\n",
       "<p>5 rows × 57 columns</p>\n",
       "</div>"
      ],
      "text/plain": [
       "   isFraud  Value  Time  Max_Dist_Nat  WeekDay  MonthDay   Age  Income  \\\n",
       "0        1   0.00    13        409.60        5         1 29.00  342.90   \n",
       "1        1   0.00    17        369.60        5        15 29.00 1612.50   \n",
       "2        1   0.00    13        409.60        5         1 29.00  342.90   \n",
       "3        1   0.00    13        409.60        5         1 29.00  342.90   \n",
       "4        1   0.00     0          0.60        0        10 25.00    0.00   \n",
       "\n",
       "   Expenditures  VisitedCountries  ...  BusinessChannel_MCI  \\\n",
       "0        342.90                 1  ...                    0   \n",
       "1        142.90                 1  ...                    0   \n",
       "2        342.90                 1  ...                    0   \n",
       "3        342.90                 1  ...                    0   \n",
       "4          0.00                 1  ...                    0   \n",
       "\n",
       "   BusinessChannel_POS  Gender_F  Gender_M  Segment_Emprendedor  \\\n",
       "0                    0         0         1                    0   \n",
       "1                    0         0         1                    0   \n",
       "2                    0         0         1                    0   \n",
       "3                    0         0         1                    0   \n",
       "4                    0         0         1                    0   \n",
       "\n",
       "   Segment_Empresarial  Segment_PYME  Segment_Personal  Segment_Personal Plus  \\\n",
       "0                    0             0                 0                      1   \n",
       "1                    0             0                 0                      1   \n",
       "2                    0             0                 0                      1   \n",
       "3                    0             0                 0                      1   \n",
       "4                    0             0                 1                      0   \n",
       "\n",
       "   Segment_Preferencial  \n",
       "0                     0  \n",
       "1                     0  \n",
       "2                     0  \n",
       "3                     0  \n",
       "4                     0  \n",
       "\n",
       "[5 rows x 57 columns]"
      ]
     },
     "execution_count": 85,
     "metadata": {},
     "output_type": "execute_result"
    }
   ],
   "source": [
    "to_dummies = ['CountryISOCode','BusinessChannel','Gender','Segment']\n",
    "dummies = pd.get_dummies(df[to_dummies])\n",
    "df_filtered = pd.concat([df,dummies],axis = 1,sort=False)\n",
    "df_filtered.drop(labels = to_dummies, axis=1,inplace = True)\n",
    "df_filtered.head()"
   ]
  },
  {
   "cell_type": "code",
   "execution_count": null,
   "metadata": {},
   "outputs": [],
   "source": []
  },
  {
   "cell_type": "code",
   "execution_count": null,
   "metadata": {},
   "outputs": [],
   "source": []
  }
 ],
 "metadata": {
  "kernelspec": {
   "display_name": "Python 3",
   "language": "python",
   "name": "python3"
  },
  "language_info": {
   "codemirror_mode": {
    "name": "ipython",
    "version": 3
   },
   "file_extension": ".py",
   "mimetype": "text/x-python",
   "name": "python",
   "nbconvert_exporter": "python",
   "pygments_lexer": "ipython3",
   "version": "3.8.2"
  }
 },
 "nbformat": 4,
 "nbformat_minor": 4
}
